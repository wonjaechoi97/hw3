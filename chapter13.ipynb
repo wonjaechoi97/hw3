{
 "cells": [
  {
   "cell_type": "code",
   "execution_count": 1,
   "metadata": {},
   "outputs": [
    {
     "name": "stdout",
     "output_type": "stream",
     "text": [
      "반지름의 길이를 입력하시오: 100\n",
      "반지름:  100  원의 면적:  31415.92  원의 둘레:  628.3184\n"
     ]
    }
   ],
   "source": [
    "radius = int(input(\"반지름의 길이를 입력하시오: \"))\n",
    "pi=3.141592\n",
    "class Circle:\n",
    "    def calcperimeter(self):\n",
    "        \n",
    "        self.peri=2*(pi)*radius\n",
    "    def calcArea(self):\n",
    "        \n",
    "        self.area=(pi)*radius*radius\n",
    "        \n",
    "\n",
    "circle=Circle()\n",
    "\n",
    "circle.radius = radius\n",
    "circle.calcperimeter()\n",
    "circle.calcArea()\n",
    "\n",
    "print(\"반지름: \",circle.radius,\" 원의 면적: \",circle.area,\" 원의 둘레: \",circle.peri)"
   ]
  },
  {
   "cell_type": "code",
   "execution_count": null,
   "metadata": {},
   "outputs": [],
   "source": []
  }
 ],
 "metadata": {
  "kernelspec": {
   "display_name": "Python 3",
   "language": "python",
   "name": "python3"
  },
  "language_info": {
   "codemirror_mode": {
    "name": "ipython",
    "version": 3
   },
   "file_extension": ".py",
   "mimetype": "text/x-python",
   "name": "python",
   "nbconvert_exporter": "python",
   "pygments_lexer": "ipython3",
   "version": "3.7.6"
  }
 },
 "nbformat": 4,
 "nbformat_minor": 4
}
